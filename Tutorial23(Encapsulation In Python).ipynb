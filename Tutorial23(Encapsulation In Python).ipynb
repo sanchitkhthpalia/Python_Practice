{
 "cells": [
  {
   "cell_type": "markdown",
   "id": "b5a3647b-ff63-4738-b5ec-7aa6e98c28a6",
   "metadata": {},
   "source": [
    "## Encapsulation in Python"
   ]
  },
  {
   "cell_type": "markdown",
   "id": "40b23a00-45f7-4207-801f-980d1b9f81e2",
   "metadata": {},
   "source": [
    "Encapsulation is a fundamental principle in object-oriented programming that focuses on bundling data and the methods that operate on that data into a single unit called a class. It allows you to control the access and visibility of the data and methods, providing a way to protect and organize your code"
   ]
  },
  {
   "cell_type": "code",
   "execution_count": 8,
   "id": "b974dc67-657b-4dfa-a333-3b2821e0151b",
   "metadata": {},
   "outputs": [],
   "source": [
    "## Access Modifiers---> Encapsulation\n",
    "\n",
    "## private\n",
    "\n",
    "class Person:\n",
    "    ## constructor\n",
    "    def __init__(self, name, age):\n",
    "        self.__name = name\n",
    "        self.__age = age\n",
    "\n",
    "    def display_info(self):\n",
    "        print(f\"the person name is {self.__name} and the age is {self.__age}\")"
   ]
  },
  {
   "cell_type": "code",
   "execution_count": 12,
   "id": "b702fe24-f988-4551-818f-f01c681acf9b",
   "metadata": {},
   "outputs": [],
   "source": [
    "person = Person(\"Sanchit\", 21)\n"
   ]
  },
  {
   "cell_type": "code",
   "execution_count": 14,
   "id": "a4e202c1-b44c-432d-aaf4-b5e26268c8e2",
   "metadata": {},
   "outputs": [
    {
     "data": {
      "text/plain": [
       "['_Person__age',\n",
       " '_Person__name',\n",
       " '__class__',\n",
       " '__delattr__',\n",
       " '__dict__',\n",
       " '__dir__',\n",
       " '__doc__',\n",
       " '__eq__',\n",
       " '__format__',\n",
       " '__ge__',\n",
       " '__getattribute__',\n",
       " '__getstate__',\n",
       " '__gt__',\n",
       " '__hash__',\n",
       " '__init__',\n",
       " '__init_subclass__',\n",
       " '__le__',\n",
       " '__lt__',\n",
       " '__module__',\n",
       " '__ne__',\n",
       " '__new__',\n",
       " '__reduce__',\n",
       " '__reduce_ex__',\n",
       " '__repr__',\n",
       " '__setattr__',\n",
       " '__sizeof__',\n",
       " '__str__',\n",
       " '__subclasshook__',\n",
       " '__weakref__',\n",
       " 'display_info']"
      ]
     },
     "execution_count": 14,
     "metadata": {},
     "output_type": "execute_result"
    }
   ],
   "source": [
    "dir(person)"
   ]
  },
  {
   "cell_type": "code",
   "execution_count": 16,
   "id": "faff572b-7b4f-46bb-b728-654243b9846f",
   "metadata": {},
   "outputs": [
    {
     "data": {
      "text/plain": [
       "21"
      ]
     },
     "execution_count": 16,
     "metadata": {},
     "output_type": "execute_result"
    }
   ],
   "source": [
    "## not a good technique\n",
    "person._Person__age"
   ]
  },
  {
   "cell_type": "code",
   "execution_count": 20,
   "id": "a762be58-048b-4d82-910c-e356aecff325",
   "metadata": {},
   "outputs": [
    {
     "name": "stdout",
     "output_type": "stream",
     "text": [
      "the person name is Sanchit and the age is 21\n"
     ]
    }
   ],
   "source": [
    "person.display_info()"
   ]
  },
  {
   "cell_type": "code",
   "execution_count": 22,
   "id": "22909fa5-0003-49f6-a723-90a41472379c",
   "metadata": {},
   "outputs": [],
   "source": [
    "## Access Modifiers---> Encapsulation\n",
    "\n",
    "## protected\n",
    "\n",
    "class Person:\n",
    "    ## constructor\n",
    "    def __init__(self, name, age):\n",
    "        self._name = name\n",
    "        self._age = age\n",
    "\n",
    "    "
   ]
  },
  {
   "cell_type": "code",
   "execution_count": 24,
   "id": "5df865cb-006a-47ed-ac7e-dbbdb0902b1e",
   "metadata": {},
   "outputs": [],
   "source": [
    "person = Person(\"Sanchit\" ,21)"
   ]
  },
  {
   "cell_type": "code",
   "execution_count": 28,
   "id": "ba3c3ef2-a036-44e3-9f67-e4f880a949e6",
   "metadata": {},
   "outputs": [
    {
     "data": {
      "text/plain": [
       "21"
      ]
     },
     "execution_count": 28,
     "metadata": {},
     "output_type": "execute_result"
    }
   ],
   "source": [
    "dir(person)\n",
    "person._age"
   ]
  },
  {
   "cell_type": "code",
   "execution_count": 30,
   "id": "ece8d17a-82dc-4488-98a7-fb37b5e8c8f5",
   "metadata": {},
   "outputs": [],
   "source": [
    "class Student(Person):\n",
    "    def __init__(self, name, age):\n",
    "        super().__init__(name,age)\n",
    "\n",
    "    def display_info(self):\n",
    "        print(f\"the person name is {self._name} and the age is {self._age}\")"
   ]
  },
  {
   "cell_type": "code",
   "execution_count": 32,
   "id": "eb2b1cce-2534-4e34-8701-6051730aad6e",
   "metadata": {},
   "outputs": [],
   "source": [
    "student1 = Student(\"Sanchit\", 21)"
   ]
  },
  {
   "cell_type": "code",
   "execution_count": 34,
   "id": "f6ab847e-a4e3-469a-82a8-e0306394ffa6",
   "metadata": {},
   "outputs": [
    {
     "name": "stdout",
     "output_type": "stream",
     "text": [
      "the person name is Sanchit and the age is 21\n"
     ]
    }
   ],
   "source": [
    "student1.display_info()"
   ]
  },
  {
   "cell_type": "code",
   "execution_count": 36,
   "id": "dedae8b6-9b93-4b03-9867-eaf1f69ade31",
   "metadata": {},
   "outputs": [],
   "source": [
    "## public\n",
    "\n",
    "class Person:\n",
    "    ## constructor\n",
    "    def __init__(self, name, age):\n",
    "        self.name = name\n",
    "        self.age = age"
   ]
  },
  {
   "cell_type": "code",
   "execution_count": null,
   "id": "be0b44e2-4f19-4004-ae8c-afa8808d1b6e",
   "metadata": {},
   "outputs": [],
   "source": []
  }
 ],
 "metadata": {
  "kernelspec": {
   "display_name": "Python [conda env:base] *",
   "language": "python",
   "name": "conda-base-py"
  },
  "language_info": {
   "codemirror_mode": {
    "name": "ipython",
    "version": 3
   },
   "file_extension": ".py",
   "mimetype": "text/x-python",
   "name": "python",
   "nbconvert_exporter": "python",
   "pygments_lexer": "ipython3",
   "version": "3.12.7"
  }
 },
 "nbformat": 4,
 "nbformat_minor": 5
}
