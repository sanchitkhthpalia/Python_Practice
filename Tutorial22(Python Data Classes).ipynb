{
 "cells": [
  {
   "cell_type": "markdown",
   "id": "1af2fdce-020e-4f3d-be70-a6e7e2e40f0a",
   "metadata": {},
   "source": [
    "### Python Data Classes\n",
    "\n",
    "\n",
    "###### In Python, the dataclass decorator is a feature introduced in Python 3.7 that provides a concise way to define classes primarily intended to store data. It automatically generates several special methods, such as init, repr, and eq, based on the class attributes you define. This simplifies the process of creating and working with data-focused classes."
   ]
  },
  {
   "cell_type": "code",
   "execution_count": 4,
   "id": "2f6a0e94-1348-46ee-852d-3d8a92a05600",
   "metadata": {},
   "outputs": [],
   "source": [
    "from dataclasses import dataclass\n",
    "\n",
    "@dataclass\n",
    "class Person:\n",
    "    name:str\n",
    "    age:int\n",
    "    profession:str"
   ]
  },
  {
   "cell_type": "code",
   "execution_count": 6,
   "id": "f0bb1dda-0a0d-41e3-9195-cc8ece12cd6d",
   "metadata": {},
   "outputs": [],
   "source": [
    "## The @dataclass decorator automatically generates the following methods for you:\n",
    "\n",
    "## 1. init(): Initializes the object and assigns the provided values to the attributes.\n",
    "## 2. repr(): Provides a string representation of the object.\n",
    "## 3. eq(): Implements equality comparison between two objects of the class based on their attributes."
   ]
  },
  {
   "cell_type": "code",
   "execution_count": 10,
   "id": "59967f9c-cdff-424a-b852-c32ef2baabf5",
   "metadata": {},
   "outputs": [
    {
     "data": {
      "text/plain": [
       "Person(name='Sanchit', age=21, profession='SE')"
      ]
     },
     "execution_count": 10,
     "metadata": {},
     "output_type": "execute_result"
    }
   ],
   "source": [
    "person1 = Person('Sanchit', 21, 'SE')\n",
    "person1"
   ]
  },
  {
   "cell_type": "code",
   "execution_count": 12,
   "id": "41e09e91-dd43-4fbd-830d-47d753712295",
   "metadata": {},
   "outputs": [
    {
     "data": {
      "text/plain": [
       "21"
      ]
     },
     "execution_count": 12,
     "metadata": {},
     "output_type": "execute_result"
    }
   ],
   "source": [
    "person1.age"
   ]
  },
  {
   "cell_type": "code",
   "execution_count": 16,
   "id": "7891137c-9af8-4cd4-a059-0a26ac84513e",
   "metadata": {},
   "outputs": [],
   "source": [
    "@dataclass\n",
    "class Rectangle:\n",
    "    width:int\n",
    "    height:int\n",
    "    color:str='white'\n",
    "\n",
    "rectangle1 = Rectangle(12,14)\n",
    "rectangle2 = Rectangle(13,14,'red')"
   ]
  },
  {
   "cell_type": "code",
   "execution_count": 18,
   "id": "c7bcfa8a-21b4-4654-a91a-4378654a2423",
   "metadata": {},
   "outputs": [
    {
     "data": {
      "text/plain": [
       "'red'"
      ]
     },
     "execution_count": 18,
     "metadata": {},
     "output_type": "execute_result"
    }
   ],
   "source": [
    "rectangle2.color"
   ]
  },
  {
   "cell_type": "code",
   "execution_count": 20,
   "id": "fc3d8560-db0f-4adf-bb48-88ffb2151830",
   "metadata": {},
   "outputs": [],
   "source": [
    "@dataclass(frozen = True)\n",
    "class Point:\n",
    "    x:int\n",
    "    y:int    "
   ]
  },
  {
   "cell_type": "code",
   "execution_count": 22,
   "id": "8374c091-29d9-45aa-93e0-92829d5b976b",
   "metadata": {},
   "outputs": [],
   "source": [
    "point = Point(3,4)"
   ]
  },
  {
   "cell_type": "code",
   "execution_count": 24,
   "id": "57bfeb7a-7ee7-48db-a81f-115136f61ce1",
   "metadata": {},
   "outputs": [
    {
     "data": {
      "text/plain": [
       "(3, 4)"
      ]
     },
     "execution_count": 24,
     "metadata": {},
     "output_type": "execute_result"
    }
   ],
   "source": [
    "point.x,point.y"
   ]
  },
  {
   "cell_type": "code",
   "execution_count": 26,
   "id": "544545cf-d60b-416a-a884-6d12c8ab44ed",
   "metadata": {},
   "outputs": [
    {
     "ename": "FrozenInstanceError",
     "evalue": "cannot assign to field 'x'",
     "output_type": "error",
     "traceback": [
      "\u001b[1;31m---------------------------------------------------------------------------\u001b[0m",
      "\u001b[1;31mFrozenInstanceError\u001b[0m                       Traceback (most recent call last)",
      "Cell \u001b[1;32mIn[26], line 1\u001b[0m\n\u001b[1;32m----> 1\u001b[0m point\u001b[38;5;241m.\u001b[39mx \u001b[38;5;241m=\u001b[39m \u001b[38;5;241m12\u001b[39m\n",
      "File \u001b[1;32m<string>:4\u001b[0m, in \u001b[0;36m__setattr__\u001b[1;34m(self, name, value)\u001b[0m\n",
      "\u001b[1;31mFrozenInstanceError\u001b[0m: cannot assign to field 'x'"
     ]
    }
   ],
   "source": [
    "point.x = 12"
   ]
  },
  {
   "cell_type": "code",
   "execution_count": 28,
   "id": "a9a40539-803a-4174-9ed8-9b3af5f2bdc4",
   "metadata": {},
   "outputs": [],
   "source": [
    "## Inheritance\n",
    "\n",
    "@dataclass \n",
    "class Person:\n",
    "    name:str\n",
    "    age:int\n",
    "\n",
    "@dataclass \n",
    "class Employee(Person):\n",
    "    employee_id:str\n",
    "    department:str"
   ]
  },
  {
   "cell_type": "code",
   "execution_count": 30,
   "id": "7a745e8a-e8b3-4752-9922-3adf39cbbe34",
   "metadata": {},
   "outputs": [],
   "source": [
    "person = Person('Sanchit',21)\n",
    "employee = Employee(\"Sanchit\",21,'123','AI')"
   ]
  },
  {
   "cell_type": "code",
   "execution_count": 32,
   "id": "62b2c3e3-c1ca-4551-998e-77057d1fa09b",
   "metadata": {},
   "outputs": [
    {
     "data": {
      "text/plain": [
       "'Sanchit'"
      ]
     },
     "execution_count": 32,
     "metadata": {},
     "output_type": "execute_result"
    }
   ],
   "source": [
    "employee.name"
   ]
  },
  {
   "cell_type": "code",
   "execution_count": 34,
   "id": "45f02363-093a-464d-bb70-bab7fa785060",
   "metadata": {},
   "outputs": [],
   "source": [
    "## Nested Dataclasses\n",
    "@dataclass\n",
    "class Address:\n",
    "    street:str\n",
    "    city:str\n",
    "    zip_code:str\n",
    "\n",
    "@dataclass\n",
    "class Person:\n",
    "    name:str\n",
    "    age:str\n",
    "    address:Address"
   ]
  },
  {
   "cell_type": "code",
   "execution_count": 36,
   "id": "2255c619-4cb4-47dc-a011-1e9c0daa17d7",
   "metadata": {},
   "outputs": [],
   "source": [
    "address = Address('123 Main  Street', 'banglore', '110085')\n",
    "person =  Person('Sanchit', 21, address)"
   ]
  },
  {
   "cell_type": "code",
   "execution_count": 38,
   "id": "5270bbc7-4087-4263-840e-2bc243fe60ca",
   "metadata": {},
   "outputs": [
    {
     "data": {
      "text/plain": [
       "Address(street='123 Main  Street', city='banglore', zip_code='110085')"
      ]
     },
     "execution_count": 38,
     "metadata": {},
     "output_type": "execute_result"
    }
   ],
   "source": [
    "person.address"
   ]
  },
  {
   "cell_type": "code",
   "execution_count": 40,
   "id": "669d1f0c-28ed-4d10-98b0-66da2eb7ecaf",
   "metadata": {},
   "outputs": [
    {
     "data": {
      "text/plain": [
       "'123 Main  Street'"
      ]
     },
     "execution_count": 40,
     "metadata": {},
     "output_type": "execute_result"
    }
   ],
   "source": [
    "person.address.street"
   ]
  },
  {
   "cell_type": "code",
   "execution_count": null,
   "id": "602d99d7-fba1-41a5-ae56-a173cc8bb42a",
   "metadata": {},
   "outputs": [],
   "source": []
  }
 ],
 "metadata": {
  "kernelspec": {
   "display_name": "Python [conda env:base] *",
   "language": "python",
   "name": "conda-base-py"
  },
  "language_info": {
   "codemirror_mode": {
    "name": "ipython",
    "version": 3
   },
   "file_extension": ".py",
   "mimetype": "text/x-python",
   "name": "python",
   "nbconvert_exporter": "python",
   "pygments_lexer": "ipython3",
   "version": "3.12.7"
  }
 },
 "nbformat": 4,
 "nbformat_minor": 5
}
