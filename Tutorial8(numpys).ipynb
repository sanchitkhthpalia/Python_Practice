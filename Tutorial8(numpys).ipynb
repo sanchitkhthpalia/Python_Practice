{
 "cells": [
  {
   "cell_type": "markdown",
   "id": "74e2bb6a-abc9-42b4-a08b-ddbaf4cea4ed",
   "metadata": {},
   "source": [
    "## Tutorial 8 - Python Numpy"
   ]
  },
  {
   "cell_type": "code",
   "execution_count": 141,
   "id": "1fe3aec1-b6c8-4ce8-bb87-ea7933bd4bde",
   "metadata": {},
   "outputs": [],
   "source": [
    "## import the library\n",
    "import numpy as np "
   ]
  },
  {
   "cell_type": "code",
   "execution_count": 145,
   "id": "e23560d9-a877-45a3-a474-06befea86f24",
   "metadata": {},
   "outputs": [],
   "source": [
    "lst = [1,2,3,4]\n",
    "arr = np.array(lst)"
   ]
  },
  {
   "cell_type": "code",
   "execution_count": 147,
   "id": "ab429ed6-88e9-4dee-81a6-5f130ebf3890",
   "metadata": {},
   "outputs": [
    {
     "data": {
      "text/plain": [
       "numpy.ndarray"
      ]
     },
     "execution_count": 147,
     "metadata": {},
     "output_type": "execute_result"
    }
   ],
   "source": [
    "type(arr)"
   ]
  },
  {
   "cell_type": "code",
   "execution_count": 149,
   "id": "8ce356f6-e509-4c2b-b80f-e19669f92388",
   "metadata": {},
   "outputs": [
    {
     "data": {
      "text/plain": [
       "(4,)"
      ]
     },
     "execution_count": 149,
     "metadata": {},
     "output_type": "execute_result"
    }
   ],
   "source": [
    "arr.shape"
   ]
  },
  {
   "cell_type": "code",
   "execution_count": 155,
   "id": "6b8e8e39-cfd3-491d-906d-4c0d0de4f355",
   "metadata": {},
   "outputs": [],
   "source": [
    "lst1 = [1,2,3,4,5]\n",
    "lst2 = [2,3,4,5,6]\n",
    "lst3 = [3,4,5,6,7]\n",
    "\n",
    "arr1 = np.array([lst1, lst2, lst3])"
   ]
  },
  {
   "cell_type": "code",
   "execution_count": 157,
   "id": "318ac65c-4218-43c8-b7df-cc79b48155a5",
   "metadata": {},
   "outputs": [
    {
     "data": {
      "text/plain": [
       "(3, 5)"
      ]
     },
     "execution_count": 157,
     "metadata": {},
     "output_type": "execute_result"
    }
   ],
   "source": [
    "arr1.shape"
   ]
  },
  {
   "cell_type": "code",
   "execution_count": 159,
   "id": "8c83dae8-3b06-47c3-9d2d-416b5270615c",
   "metadata": {},
   "outputs": [
    {
     "data": {
      "text/plain": [
       "array([1, 2, 3, 4])"
      ]
     },
     "execution_count": 159,
     "metadata": {},
     "output_type": "execute_result"
    }
   ],
   "source": [
    "arr\n"
   ]
  },
  {
   "cell_type": "code",
   "execution_count": 163,
   "id": "9982dfc8-7e4b-4d37-b26d-da1a2932a6c1",
   "metadata": {},
   "outputs": [
    {
     "data": {
      "text/plain": [
       "4"
      ]
     },
     "execution_count": 163,
     "metadata": {},
     "output_type": "execute_result"
    }
   ],
   "source": [
    "#indexing\n",
    "arr[3]"
   ]
  },
  {
   "cell_type": "code",
   "execution_count": 165,
   "id": "f7c209d0-6e13-4dd5-a589-6771a1e93a9f",
   "metadata": {},
   "outputs": [],
   "source": [
    "arr[3] = 5\n"
   ]
  },
  {
   "cell_type": "code",
   "execution_count": 167,
   "id": "7f2646e2-09a0-48df-b52c-b9bb1e5d70c6",
   "metadata": {},
   "outputs": [
    {
     "data": {
      "text/plain": [
       "array([1, 2, 3, 5])"
      ]
     },
     "execution_count": 167,
     "metadata": {},
     "output_type": "execute_result"
    }
   ],
   "source": [
    "arr"
   ]
  },
  {
   "cell_type": "code",
   "execution_count": 169,
   "id": "a92685ce-c035-48d5-a042-5b9ef983b065",
   "metadata": {},
   "outputs": [
    {
     "data": {
      "text/plain": [
       "array([2, 3])"
      ]
     },
     "execution_count": 169,
     "metadata": {},
     "output_type": "execute_result"
    }
   ],
   "source": [
    "arr[1:3]"
   ]
  },
  {
   "cell_type": "code",
   "execution_count": 171,
   "id": "b4cd155d-6a32-45b3-b12e-c608f3ab51ec",
   "metadata": {},
   "outputs": [
    {
     "data": {
      "text/plain": [
       "5"
      ]
     },
     "execution_count": 171,
     "metadata": {},
     "output_type": "execute_result"
    }
   ],
   "source": [
    "arr[-1]\n"
   ]
  },
  {
   "cell_type": "code",
   "execution_count": 173,
   "id": "2481e831-fcf8-4a7b-89d7-18f8203ffca9",
   "metadata": {},
   "outputs": [
    {
     "data": {
      "text/plain": [
       "array([1, 2, 3])"
      ]
     },
     "execution_count": 173,
     "metadata": {},
     "output_type": "execute_result"
    }
   ],
   "source": [
    "arr[:-1]"
   ]
  },
  {
   "cell_type": "code",
   "execution_count": 175,
   "id": "6d76ed63-f6e5-4524-a091-3f5b5ac3b229",
   "metadata": {},
   "outputs": [
    {
     "data": {
      "text/plain": [
       "array([1, 2, 3, 5])"
      ]
     },
     "execution_count": 175,
     "metadata": {},
     "output_type": "execute_result"
    }
   ],
   "source": [
    "arr[::]"
   ]
  },
  {
   "cell_type": "code",
   "execution_count": 177,
   "id": "3edd161e-0f3e-4e9c-b168-3d21703d8fe9",
   "metadata": {},
   "outputs": [
    {
     "data": {
      "text/plain": [
       "array([5, 3, 2, 1])"
      ]
     },
     "execution_count": 177,
     "metadata": {},
     "output_type": "execute_result"
    }
   ],
   "source": [
    "arr[::-1]\n"
   ]
  },
  {
   "cell_type": "code",
   "execution_count": 181,
   "id": "2700770e-636e-411c-8e0f-35f5a779e962",
   "metadata": {},
   "outputs": [
    {
     "data": {
      "text/plain": [
       "array([5, 2])"
      ]
     },
     "execution_count": 181,
     "metadata": {},
     "output_type": "execute_result"
    }
   ],
   "source": [
    "arr[::-2]"
   ]
  },
  {
   "cell_type": "code",
   "execution_count": 183,
   "id": "a12c49da-bcb0-4c15-b488-90de33f5e108",
   "metadata": {},
   "outputs": [
    {
     "data": {
      "text/plain": [
       "array([[1, 2, 3, 4, 5],\n",
       "       [2, 3, 4, 5, 6],\n",
       "       [3, 4, 5, 6, 7]])"
      ]
     },
     "execution_count": 183,
     "metadata": {},
     "output_type": "execute_result"
    }
   ],
   "source": [
    "arr1"
   ]
  },
  {
   "cell_type": "code",
   "execution_count": 185,
   "id": "dbc5905a-65bf-41eb-a185-65d000d4611f",
   "metadata": {},
   "outputs": [
    {
     "data": {
      "text/plain": [
       "array([2, 3, 4])"
      ]
     },
     "execution_count": 185,
     "metadata": {},
     "output_type": "execute_result"
    }
   ],
   "source": [
    "arr1[:,1]"
   ]
  },
  {
   "cell_type": "code",
   "execution_count": 187,
   "id": "3a8f2d8f-14fc-4e8e-a984-e0d18b8719fd",
   "metadata": {},
   "outputs": [
    {
     "data": {
      "text/plain": [
       "array([[3, 4],\n",
       "       [4, 5]])"
      ]
     },
     "execution_count": 187,
     "metadata": {},
     "output_type": "execute_result"
    }
   ],
   "source": [
    "arr1[1:,1:3]"
   ]
  },
  {
   "cell_type": "code",
   "execution_count": 189,
   "id": "7902e0ff-0521-4826-a3e9-ba1016449dd0",
   "metadata": {},
   "outputs": [
    {
     "data": {
      "text/plain": [
       "array([[5, 6],\n",
       "       [6, 7]])"
      ]
     },
     "execution_count": 189,
     "metadata": {},
     "output_type": "execute_result"
    }
   ],
   "source": [
    "arr1[1:,3:]"
   ]
  },
  {
   "cell_type": "code",
   "execution_count": 191,
   "id": "6f90ba99-b2f3-4191-a483-24038729d6f4",
   "metadata": {},
   "outputs": [
    {
     "data": {
      "text/plain": [
       "array([1, 2, 3, 5])"
      ]
     },
     "execution_count": 191,
     "metadata": {},
     "output_type": "execute_result"
    }
   ],
   "source": [
    "##EDA\n",
    "arr"
   ]
  },
  {
   "cell_type": "code",
   "execution_count": 195,
   "id": "a054283d-5500-4ce2-8852-c4721b6509af",
   "metadata": {},
   "outputs": [
    {
     "data": {
      "text/plain": [
       "array([1])"
      ]
     },
     "execution_count": 195,
     "metadata": {},
     "output_type": "execute_result"
    }
   ],
   "source": [
    "arr[arr<2]"
   ]
  },
  {
   "cell_type": "code",
   "execution_count": 197,
   "id": "770b3a7e-2674-449a-b72c-2a31e2ce06de",
   "metadata": {},
   "outputs": [
    {
     "data": {
      "text/plain": [
       "(3, 5)"
      ]
     },
     "execution_count": 197,
     "metadata": {},
     "output_type": "execute_result"
    }
   ],
   "source": [
    "arr1.shape\n"
   ]
  },
  {
   "cell_type": "code",
   "execution_count": 199,
   "id": "e878eb40-561a-4be9-a59e-a6e14ecfc2c3",
   "metadata": {},
   "outputs": [
    {
     "data": {
      "text/plain": [
       "array([[1, 2, 3],\n",
       "       [4, 5, 2],\n",
       "       [3, 4, 5],\n",
       "       [6, 3, 4],\n",
       "       [5, 6, 7]])"
      ]
     },
     "execution_count": 199,
     "metadata": {},
     "output_type": "execute_result"
    }
   ],
   "source": [
    "arr1.reshape(5,3)"
   ]
  },
  {
   "cell_type": "code",
   "execution_count": 215,
   "id": "2a9c5e65-4d44-451f-9426-92b4c8492748",
   "metadata": {},
   "outputs": [
    {
     "data": {
      "text/plain": [
       "array([[[ 1],\n",
       "        [ 3],\n",
       "        [ 5],\n",
       "        [ 7],\n",
       "        [ 9]],\n",
       "\n",
       "       [[11],\n",
       "        [13],\n",
       "        [15],\n",
       "        [17],\n",
       "        [19]]])"
      ]
     },
     "execution_count": 215,
     "metadata": {},
     "output_type": "execute_result"
    }
   ],
   "source": [
    "## mechanism to create an array\n",
    "np.arange(1,20,2).reshape(2,5)"
   ]
  },
  {
   "cell_type": "code",
   "execution_count": 217,
   "id": "dd6e694d-542b-42bc-b902-234ff10373da",
   "metadata": {},
   "outputs": [
    {
     "data": {
      "text/plain": [
       "array([[[ 1],\n",
       "        [ 3],\n",
       "        [ 5],\n",
       "        [ 7],\n",
       "        [ 9],\n",
       "        [11],\n",
       "        [13],\n",
       "        [15],\n",
       "        [17],\n",
       "        [19]]])"
      ]
     },
     "execution_count": 217,
     "metadata": {},
     "output_type": "execute_result"
    }
   ],
   "source": [
    "np.arange(1,20,2).reshape(1,10,1)"
   ]
  },
  {
   "cell_type": "code",
   "execution_count": 219,
   "id": "8bd234dd-3c4b-49c4-861b-0a7089c0a3a1",
   "metadata": {},
   "outputs": [
    {
     "data": {
      "text/plain": [
       "array([ 1,  4,  9, 25])"
      ]
     },
     "execution_count": 219,
     "metadata": {},
     "output_type": "execute_result"
    }
   ],
   "source": [
    "arr*arr"
   ]
  },
  {
   "cell_type": "code",
   "execution_count": 221,
   "id": "887760bd-457d-4af1-90dc-7772074460c7",
   "metadata": {},
   "outputs": [
    {
     "data": {
      "text/plain": [
       "array([[ 1,  4,  9, 16, 25],\n",
       "       [ 4,  9, 16, 25, 36],\n",
       "       [ 9, 16, 25, 36, 49]])"
      ]
     },
     "execution_count": 221,
     "metadata": {},
     "output_type": "execute_result"
    }
   ],
   "source": [
    "arr1*arr1"
   ]
  },
  {
   "cell_type": "code",
   "execution_count": 223,
   "id": "5faf8700-b9fe-41b5-b79d-543210f18264",
   "metadata": {},
   "outputs": [
    {
     "data": {
      "text/plain": [
       "array([[1., 1., 1.],\n",
       "       [1., 1., 1.],\n",
       "       [1., 1., 1.],\n",
       "       [1., 1., 1.],\n",
       "       [1., 1., 1.]])"
      ]
     },
     "execution_count": 223,
     "metadata": {},
     "output_type": "execute_result"
    }
   ],
   "source": [
    "np.ones((5,3))"
   ]
  },
  {
   "cell_type": "code",
   "execution_count": 225,
   "id": "6d35cf49-7ef5-41f2-bfae-8e69eecb483a",
   "metadata": {},
   "outputs": [
    {
     "data": {
      "text/plain": [
       "array([[0., 0., 0., 0., 0.],\n",
       "       [0., 0., 0., 0., 0.],\n",
       "       [0., 0., 0., 0., 0.],\n",
       "       [0., 0., 0., 0., 0.]])"
      ]
     },
     "execution_count": 225,
     "metadata": {},
     "output_type": "execute_result"
    }
   ],
   "source": [
    "np.zeros((4,5))"
   ]
  },
  {
   "cell_type": "code",
   "execution_count": 233,
   "id": "aef9925c-5fe3-43d8-b62a-d54a0539a700",
   "metadata": {},
   "outputs": [
    {
     "data": {
      "text/plain": [
       "array([[44, 35],\n",
       "       [35, 26]])"
      ]
     },
     "execution_count": 233,
     "metadata": {},
     "output_type": "execute_result"
    }
   ],
   "source": [
    "np.random.randint(10,50,4).reshape(2,2)"
   ]
  },
  {
   "cell_type": "raw",
   "id": "b5f73c0f-3862-4bfa-a621-9ae217190aa1",
   "metadata": {},
   "source": [
    "np.random.randn(5,6)"
   ]
  },
  {
   "cell_type": "code",
   "execution_count": 235,
   "id": "67956897-b9e3-473a-8bea-fc001daa5973",
   "metadata": {},
   "outputs": [
    {
     "data": {
      "text/plain": [
       "array([[0.52979882, 0.80318744, 0.49431096, 0.47195132, 0.45823776,\n",
       "        0.23723237, 0.49197108],\n",
       "       [0.92288278, 0.74325797, 0.98730249, 0.9312608 , 0.67023231,\n",
       "        0.16943554, 0.53886982],\n",
       "       [0.42629275, 0.46837362, 0.52943255, 0.30885351, 0.68007212,\n",
       "        0.51158889, 0.81342967],\n",
       "       [0.56409083, 0.10072884, 0.89071552, 0.33878353, 0.56248145,\n",
       "        0.04911162, 0.36773021]])"
      ]
     },
     "execution_count": 235,
     "metadata": {},
     "output_type": "execute_result"
    }
   ],
   "source": [
    "np.random.random_sample((4,7))"
   ]
  },
  {
   "cell_type": "code",
   "execution_count": null,
   "id": "68ebc757-03a5-471f-8379-f739cfc00bca",
   "metadata": {},
   "outputs": [],
   "source": []
  }
 ],
 "metadata": {
  "kernelspec": {
   "display_name": "Python [conda env:base] *",
   "language": "python",
   "name": "conda-base-py"
  },
  "language_info": {
   "codemirror_mode": {
    "name": "ipython",
    "version": 3
   },
   "file_extension": ".py",
   "mimetype": "text/x-python",
   "name": "python",
   "nbconvert_exporter": "python",
   "pygments_lexer": "ipython3",
   "version": "3.12.7"
  }
 },
 "nbformat": 4,
 "nbformat_minor": 5
}
