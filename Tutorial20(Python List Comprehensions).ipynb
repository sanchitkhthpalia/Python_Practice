{
 "cells": [
  {
   "cell_type": "markdown",
   "id": "de58d05a-cfe6-4733-b48e-47a2feba9950",
   "metadata": {},
   "source": [
    "## Python List Comprehensions"
   ]
  },
  {
   "cell_type": "code",
   "execution_count": 2,
   "id": "56759e3d-4339-4963-8179-6c71b60ba121",
   "metadata": {},
   "outputs": [
    {
     "data": {
      "text/plain": [
       "list"
      ]
     },
     "execution_count": 2,
     "metadata": {},
     "output_type": "execute_result"
    }
   ],
   "source": [
    "type([1,2,3,4,5,5])"
   ]
  },
  {
   "cell_type": "code",
   "execution_count": 4,
   "id": "1425d2cc-8fb8-4a9b-ad38-07633504f3b6",
   "metadata": {},
   "outputs": [
    {
     "name": "stdout",
     "output_type": "stream",
     "text": [
      "[0, 1, 2, 3, 4, 5, 6, 7]\n"
     ]
    }
   ],
   "source": [
    "lst = []\n",
    "for i in range(0,8):\n",
    "    lst.append(i)\n",
    "\n",
    "print(lst)"
   ]
  },
  {
   "cell_type": "code",
   "execution_count": 6,
   "id": "ec49d8c3-bd4d-4f5d-89c1-2db55ff1613f",
   "metadata": {},
   "outputs": [
    {
     "name": "stdout",
     "output_type": "stream",
     "text": [
      "[1, 4, 9, 16, 25, 36]\n"
     ]
    }
   ],
   "source": [
    "lst = [1,2,3,4,5,6]\n",
    "lst2 = []\n",
    "for i in lst:\n",
    "    lst2.append(i**2)\n",
    "\n",
    "print (lst2)"
   ]
  },
  {
   "cell_type": "code",
   "execution_count": 10,
   "id": "28068b11-3574-4545-8c63-4aa841bdf2fc",
   "metadata": {},
   "outputs": [
    {
     "name": "stdout",
     "output_type": "stream",
     "text": [
      "[1, 4, 9, 16, 25]\n"
     ]
    }
   ],
   "source": [
    "numbers = [1,2,3,4,5]\n",
    "squard_numbers = [i**2 for i in numbers]\n",
    "print(squard_numbers)\n"
   ]
  },
  {
   "cell_type": "code",
   "execution_count": 14,
   "id": "14ace88d-3cc9-43d9-bc95-6564221e5c60",
   "metadata": {},
   "outputs": [
    {
     "name": "stdout",
     "output_type": "stream",
     "text": [
      "[2, 4, 6, 8, 10]\n"
     ]
    }
   ],
   "source": [
    "## Filtering even numbers from a list:\n",
    "numbers = [1,2,3,4,5,6,7,8,9,10]\n",
    "even_number = [n for n in numbers if n%2==0]\n",
    "print(even_number)"
   ]
  },
  {
   "cell_type": "code",
   "execution_count": 16,
   "id": "ed30c0a9-f535-4281-8a6b-eca2f794f756",
   "metadata": {},
   "outputs": [],
   "source": [
    "##Flattening a list of lists: 2 for loops\n",
    "lists = [[1,2,3],[4,5,6],[7,8,9]]\n",
    "flattened_list = [item for sublist in lists for item in sublist]"
   ]
  },
  {
   "cell_type": "code",
   "execution_count": 20,
   "id": "79764981-fe80-4b40-aec9-cef4049026e9",
   "metadata": {},
   "outputs": [
    {
     "data": {
      "text/plain": [
       "[1, 2, 3, 4, 5, 6, 7, 8, 9]"
      ]
     },
     "execution_count": 20,
     "metadata": {},
     "output_type": "execute_result"
    }
   ],
   "source": [
    "flattened_list"
   ]
  },
  {
   "cell_type": "code",
   "execution_count": 22,
   "id": "82ed1f18-e2ae-48ef-869b-4d0a94889168",
   "metadata": {},
   "outputs": [
    {
     "name": "stdout",
     "output_type": "stream",
     "text": [
      "['a', 'b', 'c', 'd']\n"
     ]
    }
   ],
   "source": [
    "# Generating a list of the first letters of words in a list:\n",
    "words = ['apple','banana','cherry','date']\n",
    "first_letters = [word[0] for word in words ]\n",
    "print(first_letters)"
   ]
  },
  {
   "cell_type": "code",
   "execution_count": 24,
   "id": "94f5e5f0-3e5e-4e74-a057-adb4c3aa8136",
   "metadata": {},
   "outputs": [
    {
     "data": {
      "text/plain": [
       "[4, 16, 36, 64, 100]"
      ]
     },
     "execution_count": 24,
     "metadata": {},
     "output_type": "execute_result"
    }
   ],
   "source": [
    "## Generating a list of the squares of even numbers\n",
    "numbers = [1,2,3,4,5,6,7,8,9,10]\n",
    "[n**2 for n in numbers if n%2==0]"
   ]
  },
  {
   "cell_type": "code",
   "execution_count": 26,
   "id": "22ad9f7f-2746-491b-9648-5fdbf63a5cd2",
   "metadata": {},
   "outputs": [
    {
     "data": {
      "text/plain": [
       "[1, 2, 3, 4, 5]"
      ]
     },
     "execution_count": 26,
     "metadata": {},
     "output_type": "execute_result"
    }
   ],
   "source": [
    "## Converting a list of strings to a list of integers\n",
    "strings = ['1','2','3','4','5']\n",
    "[int (s) for s in strings]"
   ]
  },
  {
   "cell_type": "code",
   "execution_count": 28,
   "id": "017ac556-bdc1-45ef-af80-9edd0fade4c1",
   "metadata": {},
   "outputs": [
    {
     "data": {
      "text/plain": [
       "[1,\n",
       " 2,\n",
       " 3,\n",
       " 5,\n",
       " 8,\n",
       " 13,\n",
       " 21,\n",
       " 34,\n",
       " 55,\n",
       " 89,\n",
       " 144,\n",
       " 233,\n",
       " 377,\n",
       " 610,\n",
       " 987,\n",
       " 1597,\n",
       " 2584,\n",
       " 4181,\n",
       " 6765]"
      ]
     },
     "execution_count": 28,
     "metadata": {},
     "output_type": "execute_result"
    }
   ],
   "source": [
    "## Generating a list of the Fibonacci sequence using a list comprehension\n",
    "fib = [0, 1, 1, 2, 3, 5, 8, 13, 21, 34, 55, 89, 144, 233, 377, 610, 987, 1597, 2584, 4181, 6765]\n",
    "[fib[i-1] + fib[i-2] for i in range(2,len(fib))]"
   ]
  },
  {
   "cell_type": "code",
   "execution_count": 30,
   "id": "cd793ee9-6244-4f4e-bdd9-d4f7717197e7",
   "metadata": {},
   "outputs": [
    {
     "data": {
      "text/plain": [
       "[1, 2, 3, 4, 6, 9, 12, 18, 36]"
      ]
     },
     "execution_count": 30,
     "metadata": {},
     "output_type": "execute_result"
    }
   ],
   "source": [
    "##Generating a list of all the divisors of a number:\n",
    "number = 36\n",
    "[i for i in range(1,number+1) if number%i==0]"
   ]
  },
  {
   "cell_type": "code",
   "execution_count": null,
   "id": "4decaad4-634f-48b7-badc-6a444fb1fe16",
   "metadata": {},
   "outputs": [],
   "source": []
  }
 ],
 "metadata": {
  "kernelspec": {
   "display_name": "Python [conda env:base] *",
   "language": "python",
   "name": "conda-base-py"
  },
  "language_info": {
   "codemirror_mode": {
    "name": "ipython",
    "version": 3
   },
   "file_extension": ".py",
   "mimetype": "text/x-python",
   "name": "python",
   "nbconvert_exporter": "python",
   "pygments_lexer": "ipython3",
   "version": "3.12.7"
  }
 },
 "nbformat": 4,
 "nbformat_minor": 5
}
