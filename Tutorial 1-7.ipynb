{
 "cells": [
  {
   "cell_type": "markdown",
   "id": "5e7a0aac-7971-4ba7-851e-c5524981a1f5",
   "metadata": {},
   "source": [
    "## Python Tutorial(KN)\n"
   ]
  },
  {
   "cell_type": "code",
   "execution_count": 6,
   "id": "f31e7965-097b-4eb3-aba5-97bbc13cdfa6",
   "metadata": {},
   "outputs": [
    {
     "data": {
      "text/plain": [
       "5"
      ]
     },
     "execution_count": 6,
     "metadata": {},
     "output_type": "execute_result"
    }
   ],
   "source": [
    "2+3"
   ]
  },
  {
   "cell_type": "code",
   "execution_count": 8,
   "id": "9b7b8d26-b6a3-43b5-b2d3-7fde6d91ca24",
   "metadata": {},
   "outputs": [
    {
     "name": "stdout",
     "output_type": "stream",
     "text": [
      "15\n"
     ]
    }
   ],
   "source": [
    "a=10\n",
    "print(a+5)"
   ]
  },
  {
   "cell_type": "code",
   "execution_count": 12,
   "id": "1ffe07a9-ccfc-4944-ba9a-f26321ab855d",
   "metadata": {},
   "outputs": [],
   "source": []
  },
  {
   "cell_type": "code",
   "execution_count": 22,
   "id": "b03f7df5-0926-4089-b9c9-345b64abd396",
   "metadata": {},
   "outputs": [
    {
     "name": "stdout",
     "output_type": "stream",
     "text": [
      "<class 'set'>\n"
     ]
    }
   ],
   "source": [
    "type({1,2,3,4,5,'Sanchit'})\n",
    "print(type(set([1,2,3,4,5,5])))"
   ]
  },
  {
   "cell_type": "code",
   "execution_count": 24,
   "id": "59fd139f-655c-4224-adf8-716d50e36f7b",
   "metadata": {},
   "outputs": [
    {
     "name": "stdout",
     "output_type": "stream",
     "text": [
      "{'Sanchit', 'Gaurikaa', 'Nirmit'}\n"
     ]
    },
    {
     "data": {
      "text/plain": [
       "set"
      ]
     },
     "execution_count": 24,
     "metadata": {},
     "output_type": "execute_result"
    }
   ],
   "source": [
    "set_var={\"Sanchit\", \"Gaurikaa\", \"Nirmit\"}\n",
    "print(set_var)\n",
    "type(set_var)"
   ]
  },
  {
   "cell_type": "code",
   "execution_count": 26,
   "id": "1f29439d-d107-418a-b4ad-0d4f829cba57",
   "metadata": {},
   "outputs": [],
   "source": [
    "set_var.add(\"Anju\")"
   ]
  },
  {
   "cell_type": "code",
   "execution_count": 28,
   "id": "14e87686-62f4-4b8d-8792-93e4f6186fdd",
   "metadata": {},
   "outputs": [
    {
     "name": "stdout",
     "output_type": "stream",
     "text": [
      "{'Sanchit', 'Anju', 'Gaurikaa', 'Nirmit'}\n"
     ]
    }
   ],
   "source": [
    "print(set_var)"
   ]
  },
  {
   "cell_type": "code",
   "execution_count": 30,
   "id": "b765e4d2-0a7c-4e7c-9544-4ad6d8fae09e",
   "metadata": {},
   "outputs": [
    {
     "name": "stdout",
     "output_type": "stream",
     "text": [
      "Sanchit\n",
      "Anju\n",
      "Gaurikaa\n",
      "Nirmit\n"
     ]
    }
   ],
   "source": [
    " for i in set_var:\n",
    "     print(i)"
   ]
  },
  {
   "cell_type": "code",
   "execution_count": 32,
   "id": "3a8c7d0a-96cb-4809-9a60-ed2fd046a308",
   "metadata": {},
   "outputs": [],
   "source": [
    "set_var.add('Jeetu')"
   ]
  },
  {
   "cell_type": "code",
   "execution_count": 34,
   "id": "4fe99eb9-8f2e-41fa-ad71-643533eb5e6b",
   "metadata": {},
   "outputs": [
    {
     "data": {
      "text/plain": [
       "{'Anju', 'Gaurikaa', 'Jeetu', 'Nirmit', 'Sanchit'}"
      ]
     },
     "execution_count": 34,
     "metadata": {},
     "output_type": "execute_result"
    }
   ],
   "source": [
    "set_var"
   ]
  },
  {
   "cell_type": "code",
   "execution_count": 44,
   "id": "a716dd9d-ce91-491a-aad7-5710f026976c",
   "metadata": {},
   "outputs": [
    {
     "name": "stdout",
     "output_type": "stream",
     "text": [
      "{1, 2, 4, 5, 6}\n"
     ]
    }
   ],
   "source": [
    "set_1= set([4,5,6,2,1])\n",
    "print(set_1)\n"
   ]
  },
  {
   "cell_type": "code",
   "execution_count": 48,
   "id": "e4359c7b-d129-4fb5-beba-03cd1f1378cb",
   "metadata": {},
   "outputs": [
    {
     "name": "stdout",
     "output_type": "stream",
     "text": [
      "{0, 1, 2, 4, 5, 6}\n"
     ]
    }
   ],
   "source": [
    "set_1.add(0)\n",
    "print(set_1)"
   ]
  },
  {
   "cell_type": "code",
   "execution_count": 60,
   "id": "78f764c9-4dc7-4810-8029-bd3645b2dba9",
   "metadata": {},
   "outputs": [],
   "source": [
    "set_var = {\"Sanchit\", \"Anju\", \"Gaurikaa\", \"Nirmit\"}\n",
    "set_var2 = {\"Sanchit\", \"Anju\", \"Gaurikaa\", \"Nirmit\", \"Jeetu\"}"
   ]
  },
  {
   "cell_type": "code",
   "execution_count": 62,
   "id": "df8b7dbd-4c6b-4fb0-a0dc-210e29538721",
   "metadata": {},
   "outputs": [
    {
     "data": {
      "text/plain": [
       "{'Anju', 'Gaurikaa', 'Nirmit', 'Sanchit'}"
      ]
     },
     "execution_count": 62,
     "metadata": {},
     "output_type": "execute_result"
    }
   ],
   "source": [
    "set_var.intersection(set_var2)"
   ]
  },
  {
   "cell_type": "code",
   "execution_count": 64,
   "id": "c305afce-effb-4a04-b94b-ff496b74c8f7",
   "metadata": {},
   "outputs": [],
   "source": [
    "set_var2.intersection_update(set_var)"
   ]
  },
  {
   "cell_type": "code",
   "execution_count": 66,
   "id": "79d3d526-06c6-452a-9dea-5940abc08a53",
   "metadata": {},
   "outputs": [
    {
     "data": {
      "text/plain": [
       "{'Anju', 'Gaurikaa', 'Nirmit', 'Sanchit'}"
      ]
     },
     "execution_count": 66,
     "metadata": {},
     "output_type": "execute_result"
    }
   ],
   "source": [
    "set_var2"
   ]
  },
  {
   "cell_type": "code",
   "execution_count": 70,
   "id": "dad700a5-b851-453d-8fcb-56ba34120b80",
   "metadata": {},
   "outputs": [
    {
     "data": {
      "text/plain": [
       "set()"
      ]
     },
     "execution_count": 70,
     "metadata": {},
     "output_type": "execute_result"
    }
   ],
   "source": [
    "##Difference \n",
    "\n",
    "set_var2.difference(set_var)"
   ]
  },
  {
   "cell_type": "code",
   "execution_count": 72,
   "id": "653684bf-4c71-4c04-8077-6c52c8c99a1b",
   "metadata": {},
   "outputs": [],
   "source": [
    "set_var = {\"Sanchit\", \"Anju\", \"Gaurikaa\", \"Nirmit\"}\n",
    "set_var2 = {\"Sanchit\", \"Anju\", \"Gaurikaa\", \"Nirmit\", \"Jeetu\"}"
   ]
  },
  {
   "cell_type": "code",
   "execution_count": 74,
   "id": "5de9407b-f9c7-4100-b92b-0185b4e98174",
   "metadata": {},
   "outputs": [
    {
     "data": {
      "text/plain": [
       "True"
      ]
     },
     "execution_count": 74,
     "metadata": {},
     "output_type": "execute_result"
    }
   ],
   "source": [
    "set_var.issubset(set_var2)"
   ]
  },
  {
   "cell_type": "code",
   "execution_count": 76,
   "id": "61954426-f685-4205-97cf-ffc3f61e853b",
   "metadata": {},
   "outputs": [
    {
     "data": {
      "text/plain": [
       "False"
      ]
     },
     "execution_count": 76,
     "metadata": {},
     "output_type": "execute_result"
    }
   ],
   "source": [
    "set_var.issuperset(set_var2)"
   ]
  },
  {
   "cell_type": "code",
   "execution_count": 86,
   "id": "95490aa4-e1f9-4419-82d6-221e05619763",
   "metadata": {},
   "outputs": [],
   "source": [
    "#Dictionaries\n"
   ]
  },
  {
   "cell_type": "code",
   "execution_count": 90,
   "id": "7691c09c-f2a9-4e79-b623-d92c490dab2b",
   "metadata": {},
   "outputs": [
    {
     "data": {
      "text/plain": [
       "dict"
      ]
     },
     "execution_count": 90,
     "metadata": {},
     "output_type": "execute_result"
    }
   ],
   "source": [
    "type({1: \"Sanchit\" })"
   ]
  },
  {
   "cell_type": "code",
   "execution_count": 92,
   "id": "9fd13f77-8823-440e-803a-2e773a03b82c",
   "metadata": {},
   "outputs": [
    {
     "data": {
      "text/plain": [
       "{'name': 'Sanchit', 'age': 20, 'last_name': 'Kathpalia'}"
      ]
     },
     "execution_count": 92,
     "metadata": {},
     "output_type": "execute_result"
    }
   ],
   "source": [
    "dict(name = \"Sanchit\", age = 20, last_name = \"Kathpalia\")"
   ]
  },
  {
   "cell_type": "code",
   "execution_count": 96,
   "id": "2ddef1ac-8d7e-4cf2-83fc-3ab6442c46d5",
   "metadata": {},
   "outputs": [],
   "source": [
    "## Lets create a dictionary\n",
    "\n",
    "my_dict = {\"Car1\": \"Audi\",\"Car2\": \"BMW\",\"Car3\": \"Mercedes\"}"
   ]
  },
  {
   "cell_type": "code",
   "execution_count": 98,
   "id": "b5093140-8f0a-4e6d-83cf-5950b1362fd6",
   "metadata": {},
   "outputs": [
    {
     "data": {
      "text/plain": [
       "dict"
      ]
     },
     "execution_count": 98,
     "metadata": {},
     "output_type": "execute_result"
    }
   ],
   "source": [
    "type(my_dict)"
   ]
  },
  {
   "cell_type": "code",
   "execution_count": 102,
   "id": "a6a101f8-1ef2-462d-86f9-d993c46a7c1c",
   "metadata": {},
   "outputs": [
    {
     "data": {
      "text/plain": [
       "'Mercedes'"
      ]
     },
     "execution_count": 102,
     "metadata": {},
     "output_type": "execute_result"
    }
   ],
   "source": [
    "my_dict[\"Car3\"]"
   ]
  },
  {
   "cell_type": "code",
   "execution_count": 104,
   "id": "1536d517-69b6-4b0b-9a59-ecc1fdaec46e",
   "metadata": {},
   "outputs": [
    {
     "data": {
      "text/plain": [
       "dict_keys(['Car1', 'Car2', 'Car3'])"
      ]
     },
     "execution_count": 104,
     "metadata": {},
     "output_type": "execute_result"
    }
   ],
   "source": [
    "my_dict.keys()"
   ]
  },
  {
   "cell_type": "code",
   "execution_count": 106,
   "id": "21b14ef3-ad34-4445-9454-599d620806ed",
   "metadata": {},
   "outputs": [
    {
     "data": {
      "text/plain": [
       "dict_values(['Audi', 'BMW', 'Mercedes'])"
      ]
     },
     "execution_count": 106,
     "metadata": {},
     "output_type": "execute_result"
    }
   ],
   "source": [
    "my_dict.values()\n"
   ]
  },
  {
   "cell_type": "code",
   "execution_count": 116,
   "id": "e26e9c4e-db21-47af-9f7c-93585ce0df22",
   "metadata": {},
   "outputs": [
    {
     "name": "stdout",
     "output_type": "stream",
     "text": [
      "('Car1', 'Audi')\n",
      "('Car2', 'BMW')\n",
      "('Car3', 'Mercedes')\n"
     ]
    }
   ],
   "source": [
    "for x in my_dict.items():\n",
    "    print(x)"
   ]
  },
  {
   "cell_type": "code",
   "execution_count": 118,
   "id": "a9d37993-03de-4b9a-9371-05262c63a103",
   "metadata": {},
   "outputs": [
    {
     "data": {
      "text/plain": [
       "{'Car1': 'Audi', 'Car2': 'BMW', 'Car3': 'Mercedes'}"
      ]
     },
     "execution_count": 118,
     "metadata": {},
     "output_type": "execute_result"
    }
   ],
   "source": [
    "my_dict\n"
   ]
  },
  {
   "cell_type": "code",
   "execution_count": 120,
   "id": "2c2f9ac4-e266-40b5-9ccb-b25f4fb8e93e",
   "metadata": {},
   "outputs": [
    {
     "data": {
      "text/plain": [
       "{'Car1': 'Audi', 'Car2': 'BMW', 'Car3': 'Mercedes', 'Car4': 'Porsche'}"
      ]
     },
     "execution_count": 120,
     "metadata": {},
     "output_type": "execute_result"
    }
   ],
   "source": [
    "my_dict[\"Car4\"] = \"Porsche\"\n",
    "my_dict\n"
   ]
  },
  {
   "cell_type": "code",
   "execution_count": 122,
   "id": "d602a1e5-b269-4e1c-8f96-5f93ce180862",
   "metadata": {},
   "outputs": [],
   "source": [
    "# Nested Dictionary"
   ]
  },
  {
   "cell_type": "code",
   "execution_count": 126,
   "id": "22588cc7-45c5-4d7b-a9ab-31b68a058e6a",
   "metadata": {},
   "outputs": [],
   "source": [
    "car1_model = {'Mercedes' : 1960}\n",
    "car2_model = {'Audi': 1970}\n",
    "car3_model = {'Porsche' : 1980}\n",
    "\n",
    "car_type = {'car1' :car1_model, 'car2' : car2_model , 'car3' : car3_model}\n"
   ]
  },
  {
   "cell_type": "raw",
   "id": "312d3475-9ce8-4192-9669-4a0907a537c5",
   "metadata": {},
   "source": [
    "print(car_type)"
   ]
  },
  {
   "cell_type": "code",
   "execution_count": 128,
   "id": "0f1662ce-115e-4965-afaf-d82b24d6fb2d",
   "metadata": {},
   "outputs": [
    {
     "name": "stdout",
     "output_type": "stream",
     "text": [
      "{'car1': {'Mercedes': 1960}, 'car2': {'Audi': 1970}, 'car3': {'Porsche': 1980}}\n"
     ]
    }
   ],
   "source": [
    "print(car_type)"
   ]
  },
  {
   "cell_type": "code",
   "execution_count": 132,
   "id": "6628d0a0-0330-4e51-be81-07e0e8bb6a8f",
   "metadata": {},
   "outputs": [
    {
     "data": {
      "text/plain": [
       "1960"
      ]
     },
     "execution_count": 132,
     "metadata": {},
     "output_type": "execute_result"
    }
   ],
   "source": [
    "car_type['car1']['Mercedes']\n"
   ]
  },
  {
   "cell_type": "code",
   "execution_count": null,
   "id": "1ecb21e0-43f6-43b1-a780-083c31bfefbf",
   "metadata": {},
   "outputs": [],
   "source": []
  }
 ],
 "metadata": {
  "kernelspec": {
   "display_name": "Python [conda env:base] *",
   "language": "python",
   "name": "conda-base-py"
  },
  "language_info": {
   "codemirror_mode": {
    "name": "ipython",
    "version": 3
   },
   "file_extension": ".py",
   "mimetype": "text/x-python",
   "name": "python",
   "nbconvert_exporter": "python",
   "pygments_lexer": "ipython3",
   "version": "3.12.7"
  }
 },
 "nbformat": 4,
 "nbformat_minor": 5
}
